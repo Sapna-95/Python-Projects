{
 "cells": [
  {
   "cell_type": "code",
   "execution_count": null,
   "id": "d7b9d10f-e5a2-42ea-90f5-3d07b290142b",
   "metadata": {},
   "outputs": [],
   "source": [
    "#Pig Game"
   ]
  },
  {
   "cell_type": "code",
   "execution_count": null,
   "id": "fb0efcb3-94d3-4b60-a59a-6b2e74790879",
   "metadata": {},
   "outputs": [
    {
     "name": "stdin",
     "output_type": "stream",
     "text": [
      "Select game mode: (1) Single, (2) Multi, (3) Challenge, (4) Tournament:  1\n"
     ]
    },
    {
     "name": "stdout",
     "output_type": "stream",
     "text": [
      "Player 1 rolled a 6\n",
      "Player 1's current score: 6\n"
     ]
    },
    {
     "name": "stdin",
     "output_type": "stream",
     "text": [
      "Player 1, roll again? (y/n):  6\n"
     ]
    },
    {
     "name": "stdout",
     "output_type": "stream",
     "text": [
      "Player 1 rolled a 4\n",
      "Player 1's current score: 10\n"
     ]
    },
    {
     "name": "stdin",
     "output_type": "stream",
     "text": [
      "Player 1, roll again? (y/n):  6\n"
     ]
    },
    {
     "name": "stdout",
     "output_type": "stream",
     "text": [
      "Player 1 rolled a 2\n",
      "Player 1's current score: 12\n"
     ]
    },
    {
     "name": "stdin",
     "output_type": "stream",
     "text": [
      "Player 1, roll again? (y/n):  \n"
     ]
    },
    {
     "name": "stdout",
     "output_type": "stream",
     "text": [
      "Player 1 rolled a 2\n",
      "Player 1's current score: 14\n"
     ]
    },
    {
     "name": "stdin",
     "output_type": "stream",
     "text": [
      "Player 1, roll again? (y/n):  \n"
     ]
    },
    {
     "name": "stdout",
     "output_type": "stream",
     "text": [
      "Player 1 rolled a 4\n",
      "Player 1's current score: 18\n"
     ]
    },
    {
     "name": "stdin",
     "output_type": "stream",
     "text": [
      "Player 1, roll again? (y/n):  \n"
     ]
    },
    {
     "name": "stdout",
     "output_type": "stream",
     "text": [
      "Player 1 rolled a 2\n",
      "Player 1's current score: 20\n"
     ]
    },
    {
     "name": "stdin",
     "output_type": "stream",
     "text": [
      "Player 1, roll again? (y/n):  \n"
     ]
    },
    {
     "name": "stdout",
     "output_type": "stream",
     "text": [
      "Player 1 rolled a 3\n",
      "Player 1's current score: 23\n"
     ]
    }
   ],
   "source": [
    "import random\n",
    "\n",
    "def pig_game():\n",
    "    game_mode = input(\"Select game mode: (1) Single, (2) Multi, (3) Challenge, (4) Tournament: \")\n",
    "    \n",
    "    if game_mode == \"1\":\n",
    "        play(1)\n",
    "    elif game_mode == \"2\":\n",
    "        play(int(input(\"Enter number of players: \")))\n",
    "    elif game_mode == \"3\":\n",
    "        play(1, int(input(\"Enter target score: \")))\n",
    "    elif game_mode == \"4\":\n",
    "        tournament(int(input(\"Enter number of players: \")))\n",
    "\n",
    "def play(players=1, target_score=100):\n",
    "    scores = {f\"Player {i+1}\": 0 for i in range(players)}\n",
    "    while True:\n",
    "        for player in scores:\n",
    "            roll = random.randint(1, 6)\n",
    "            print(f\"{player} rolled a {roll}\")\n",
    "            if roll == 1:\n",
    "                print(f\"{player} loses their turn!\")\n",
    "                continue\n",
    "            scores[player] += roll\n",
    "            print(f\"{player}'s current score: {scores[player]}\")\n",
    "            if scores[player] >= target_score:\n",
    "                print(f\"{player} wins!\")\n",
    "                return\n",
    "            choice = input(f\"{player}, roll again? (y/n): \")\n",
    "            if choice.lower() != \"y\":\n",
    "                break\n",
    "\n",
    "def tournament(players):\n",
    "    winners = []\n",
    "    for i in range(players):\n",
    "        print(f\"\\nMatch {i+1}:\")\n",
    "        score = play(1)[0]\n",
    "        winners.append((f\"Player {i+1}\", score))\n",
    "    winners.sort(key=lambda x: x[1], reverse=True)\n",
    "    print(\"\\nTournament Results:\")\n",
    "    for i, (player, score) in enumerate(winners):\n",
    "        print(f\"{i+1}. {player} - {score}\")\n",
    "\n",
    "pig_game()"
   ]
  },
  {
   "cell_type": "code",
   "execution_count": null,
   "id": "bf322b57-4bf9-4042-aa73-bfd9fcfd097a",
   "metadata": {},
   "outputs": [],
   "source": []
  }
 ],
 "metadata": {
  "kernelspec": {
   "display_name": "Python 3 (ipykernel)",
   "language": "python",
   "name": "python3"
  },
  "language_info": {
   "codemirror_mode": {
    "name": "ipython",
    "version": 3
   },
   "file_extension": ".py",
   "mimetype": "text/x-python",
   "name": "python",
   "nbconvert_exporter": "python",
   "pygments_lexer": "ipython3",
   "version": "3.11.7"
  }
 },
 "nbformat": 4,
 "nbformat_minor": 5
}
