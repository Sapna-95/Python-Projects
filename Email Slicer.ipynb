{
 "cells": [
  {
   "cell_type": "code",
   "execution_count": null,
   "id": "4274890a-b92d-4626-9745-9b47c74b48e3",
   "metadata": {},
   "outputs": [],
   "source": [
    "#Email Slicer"
   ]
  },
  {
   "cell_type": "code",
   "execution_count": 1,
   "id": "81eb1ad5-f5ee-42ca-8300-b05b5eadb187",
   "metadata": {},
   "outputs": [
    {
     "name": "stdin",
     "output_type": "stream",
     "text": [
      "Enter your email address:  sapna890thakur@gmail.com\n"
     ]
    },
    {
     "name": "stdout",
     "output_type": "stream",
     "text": [
      "Username: sapna890thakur, Domain: gmail.com\n"
     ]
    }
   ],
   "source": [
    "def slice_email(email):\n",
    "    return email.split('@')\n",
    "\n",
    "email = input(\"Enter your email address: \")\n",
    "username, domain = slice_email(email)\n",
    "print(f\"Username: {username}, Domain: {domain}\")"
   ]
  },
  {
   "cell_type": "code",
   "execution_count": null,
   "id": "4d04b01a-c73a-4695-8a2a-2d6b440480ca",
   "metadata": {},
   "outputs": [],
   "source": []
  }
 ],
 "metadata": {
  "kernelspec": {
   "display_name": "Python 3 (ipykernel)",
   "language": "python",
   "name": "python3"
  },
  "language_info": {
   "codemirror_mode": {
    "name": "ipython",
    "version": 3
   },
   "file_extension": ".py",
   "mimetype": "text/x-python",
   "name": "python",
   "nbconvert_exporter": "python",
   "pygments_lexer": "ipython3",
   "version": "3.11.7"
  }
 },
 "nbformat": 4,
 "nbformat_minor": 5
}
