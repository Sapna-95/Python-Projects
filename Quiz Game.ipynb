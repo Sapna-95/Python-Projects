{
 "cells": [
  {
   "cell_type": "code",
   "execution_count": null,
   "id": "bcbebff4-c524-414a-9d2e-12864f0b3293",
   "metadata": {},
   "outputs": [],
   "source": [
    "#Quiz game"
   ]
  },
  {
   "cell_type": "code",
   "execution_count": null,
   "id": "d493b73c-33e9-4975-961f-c3b7138f1635",
   "metadata": {},
   "outputs": [
    {
     "name": "stdout",
     "output_type": "stream",
     "text": [
      "What is the largest planet in our solar system?\n"
     ]
    }
   ],
   "source": [
    "quiz = [\n",
    "    {\"question\": \"What is the largest planet in our solar system?\", \"answer\": \"Jupiter\"},\n",
    "    {\"question\": \"Who painted the famous artwork 'The Starry Night'?\", \"answer\": \"Van Gogh\"},\n",
    "    {\"question\": \"What is the chemical symbol for gold?\", \"answer\": \"Au\"}\n",
    "]\n",
    "\n",
    "score = 0\n",
    "for question in quiz:\n",
    "    print(question[\"question\"])\n",
    "    user_answer = input(\"Enter your answer: \")\n",
    "    if user_answer.lower() == question[\"answer\"].lower():\n",
    "        print(\"Correct!\")\n",
    "        score += 1\n",
    "    else:\n",
    "        print(f\"Sorry, the correct answer was {question['answer']}\")"
   ]
  },
  {
   "cell_type": "code",
   "execution_count": null,
   "id": "7d000ef8-6d06-4b77-a62c-ece75f94a0ed",
   "metadata": {},
   "outputs": [],
   "source": []
  }
 ],
 "metadata": {
  "kernelspec": {
   "display_name": "Python 3 (ipykernel)",
   "language": "python",
   "name": "python3"
  },
  "language_info": {
   "codemirror_mode": {
    "name": "ipython",
    "version": 3
   },
   "file_extension": ".py",
   "mimetype": "text/x-python",
   "name": "python",
   "nbconvert_exporter": "python",
   "pygments_lexer": "ipython3",
   "version": "3.11.7"
  }
 },
 "nbformat": 4,
 "nbformat_minor": 5
}
