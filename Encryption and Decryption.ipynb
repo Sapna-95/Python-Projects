{
 "cells": [
  {
   "cell_type": "code",
   "execution_count": 15,
   "id": "e4a7ad11-7c43-4389-a9fb-d2c300f3a5db",
   "metadata": {},
   "outputs": [
    {
     "name": "stdin",
     "output_type": "stream",
     "text": [
      "Write your secret message:  Hy i a am good girl.\n",
      "Choose a secret number:  56\n"
     ]
    },
    {
     "name": "stdout",
     "output_type": "stream",
     "text": [
      "Encrypted message: ±X¡XX¥X§§X¡ª¤f\n"
     ]
    }
   ],
   "source": [
    "Create Secret Message Encryption and Decryption tool using python.\n",
    "#Encryption:\n",
    "\n",
    "def encrypt(message, key):\n",
    "    result = \"\"\n",
    "    for char in message:\n",
    "        result += chr(ord(char) + key)\n",
    "    return result\n",
    "\n",
    "message = input(\"Write your secret message: \")\n",
    "key = int(input(\"Choose a secret number: \"))\n",
    "print(\"Encrypted message:\", encrypt(message, key))\n",
    "\n"
   ]
  },
  {
   "cell_type": "code",
   "execution_count": 21,
   "id": "2998e927-726e-4b9d-9745-16be862a8313",
   "metadata": {},
   "outputs": [
    {
     "name": "stdin",
     "output_type": "stream",
     "text": [
      "Write your encrypted message:  ±X¡XX¥X§§X¡ª¤f\n",
      "Enter your secret number again:  56\n"
     ]
    },
    {
     "name": "stdout",
     "output_type": "stream",
     "text": [
      "Decrypted message: Hy i a am good girl.\n"
     ]
    }
   ],
   "source": [
    "#Decryption:\n",
    "\n",
    "def decrypt(encrypted_message, key):\n",
    "    result = \"\"\n",
    "    for char in encrypted_message:\n",
    "        result += chr(ord(char) - key)\n",
    "    return result\n",
    "\n",
    "encrypted_message = input(\"Write your encrypted message: \")\n",
    "key = int(input(\"Enter your secret number again: \"))\n",
    "print(\"Decrypted message:\", decrypt(encrypted_message, key))"
   ]
  },
  {
   "cell_type": "code",
   "execution_count": null,
   "id": "f4024fea-0e6a-4bb6-b927-b3267043c004",
   "metadata": {},
   "outputs": [],
   "source": []
  }
 ],
 "metadata": {
  "kernelspec": {
   "display_name": "Python 3 (ipykernel)",
   "language": "python",
   "name": "python3"
  },
  "language_info": {
   "codemirror_mode": {
    "name": "ipython",
    "version": 3
   },
   "file_extension": ".py",
   "mimetype": "text/x-python",
   "name": "python",
   "nbconvert_exporter": "python",
   "pygments_lexer": "ipython3",
   "version": "3.11.7"
  }
 },
 "nbformat": 4,
 "nbformat_minor": 5
}
