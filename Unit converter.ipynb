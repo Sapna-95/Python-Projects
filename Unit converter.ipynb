{
 "cells": [
  {
   "cell_type": "code",
   "execution_count": null,
   "id": "4e3f5de2-76bb-47f8-a58a-30fe67bfcebe",
   "metadata": {},
   "outputs": [],
   "source": [
    "# Unit converter"
   ]
  },
  {
   "cell_type": "code",
   "execution_count": 3,
   "id": "aba073b5-737b-46cd-bcd6-c5117852c9ab",
   "metadata": {},
   "outputs": [
    {
     "name": "stdout",
     "output_type": "stream",
     "text": [
      "Unit Converter\n"
     ]
    },
    {
     "name": "stdin",
     "output_type": "stream",
     "text": [
      "1. km-mi, 2. mi-km, 3. C-F, 4. F-C:  1\n",
      "km:  27\n"
     ]
    },
    {
     "name": "stdout",
     "output_type": "stream",
     "text": [
      "27.0 km = 16.777017 miles\n"
     ]
    }
   ],
   "source": [
    "def convert_units():\n",
    "    print(\"Unit Converter\")\n",
    "    choice = input(\"1. km-mi, 2. mi-km, 3. C-F, 4. F-C: \")\n",
    "\n",
    "    if choice == \"1\":\n",
    "        km = float(input(\"km: \"))\n",
    "        print(f\"{km} km = {km * 0.621371} miles\")\n",
    "    elif choice == \"2\":\n",
    "        miles = float(input(\"miles: \"))\n",
    "        print(f\"{miles} miles = {miles * 1.60934} km\")\n",
    "    elif choice == \"3\":\n",
    "        celsius = float(input(\"C: \"))\n",
    "        print(f\"{celsius}°C = {(celsius * 9/5) + 32}°F\")\n",
    "    elif choice == \"4\":\n",
    "        fahrenheit = float(input(\"F: \"))\n",
    "        print(f\"{fahrenheit}°F = {(fahrenheit - 32) * 5/9}°C\")\n",
    "    else:\n",
    "        print(\"Invalid choice.\")\n",
    "\n",
    "convert_units()"
   ]
  },
  {
   "cell_type": "code",
   "execution_count": null,
   "id": "6ea2ffef-8534-4807-abdd-0d230d187cde",
   "metadata": {},
   "outputs": [],
   "source": []
  }
 ],
 "metadata": {
  "kernelspec": {
   "display_name": "Python 3 (ipykernel)",
   "language": "python",
   "name": "python3"
  },
  "language_info": {
   "codemirror_mode": {
    "name": "ipython",
    "version": 3
   },
   "file_extension": ".py",
   "mimetype": "text/x-python",
   "name": "python",
   "nbconvert_exporter": "python",
   "pygments_lexer": "ipython3",
   "version": "3.11.7"
  }
 },
 "nbformat": 4,
 "nbformat_minor": 5
}
