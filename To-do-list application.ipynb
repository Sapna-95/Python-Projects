{
 "cells": [
  {
   "cell_type": "code",
   "execution_count": null,
   "id": "23ecfd75-ed83-4113-8824-5a4993ff0c5e",
   "metadata": {},
   "outputs": [],
   "source": [
    "# To-Do_List Application"
   ]
  },
  {
   "cell_type": "code",
   "execution_count": null,
   "id": "72a527cc-abfe-4eb9-a098-1694d63cdf6f",
   "metadata": {},
   "outputs": [
    {
     "name": "stdout",
     "output_type": "stream",
     "text": [
      "\n",
      "1. Show tasks\n",
      "2. Add task\n",
      "3. Delete task\n",
      "4. Quit\n"
     ]
    }
   ],
   "source": [
    "class ToDoList:\n",
    "    def __init__(self):\n",
    "        self.tasks = []\n",
    "\n",
    "    def run(self):\n",
    "        while True:\n",
    "            print(\"\\n1. Show tasks\")\n",
    "            print(\"2. Add task\")\n",
    "            print(\"3. Delete task\")\n",
    "            print(\"4. Quit\")\n",
    "            choice = input(\"Choose: \")\n",
    "            if choice == \"1\":\n",
    "                print(self.tasks)\n",
    "            elif choice == \"2\":\n",
    "                self.tasks.append(input(\"Task: \"))\n",
    "            elif choice == \"3\":\n",
    "                self.tasks.pop(int(input(\"Task #\")) - 1)\n",
    "            elif choice == \"4\":\n",
    "                break\n",
    "\n",
    "ToDoList().run()"
   ]
  },
  {
   "cell_type": "code",
   "execution_count": null,
   "id": "4bbaf290-4c22-4b14-ab34-fdbe2cf7f1d5",
   "metadata": {},
   "outputs": [],
   "source": []
  }
 ],
 "metadata": {
  "kernelspec": {
   "display_name": "Python 3 (ipykernel)",
   "language": "python",
   "name": "python3"
  },
  "language_info": {
   "codemirror_mode": {
    "name": "ipython",
    "version": 3
   },
   "file_extension": ".py",
   "mimetype": "text/x-python",
   "name": "python",
   "nbconvert_exporter": "python",
   "pygments_lexer": "ipython3",
   "version": "3.11.7"
  }
 },
 "nbformat": 4,
 "nbformat_minor": 5
}
