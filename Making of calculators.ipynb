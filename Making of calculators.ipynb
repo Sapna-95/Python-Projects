{
 "cells": [
  {
   "cell_type": "code",
   "execution_count": null,
   "id": "393dc205-cf6a-4b3a-979d-9068c7bbc0cb",
   "metadata": {},
   "outputs": [],
   "source": [
    "#simple calculator"
   ]
  },
  {
   "cell_type": "code",
   "execution_count": 1,
   "id": "4c8e6cac-d89b-4867-be1e-f3515b0c85c1",
   "metadata": {},
   "outputs": [
    {
     "name": "stdin",
     "output_type": "stream",
     "text": [
      "Enter first number:  5\n",
      "Enter second number:  8\n",
      "Enter choice (1/2/3/4): 4\n"
     ]
    },
    {
     "name": "stdout",
     "output_type": "stream",
     "text": [
      "0.625\n"
     ]
    }
   ],
   "source": [
    "def cal():\n",
    "    a = int(input(\"Enter first number: \"))\n",
    "    b = int(input(\"Enter second number: \"))\n",
    "\n",
    "    choice = int(input(\"Enter choice (1/2/3/4):\"))\n",
    "\n",
    "    if choice == 1:\n",
    "        print( a + b)\n",
    "    elif choice == 2:\n",
    "        print( a - b)\n",
    "    elif choice == 3:\n",
    "        print( a * b)\n",
    "    elif choice == 4:\n",
    "         print( a / b) \n",
    "    else:\n",
    "        print(\"Invalid input\")\n",
    "\n",
    "cal()"
   ]
  },
  {
   "cell_type": "code",
   "execution_count": null,
   "id": "f5c3e5ed-41f0-4cb4-8603-c4cd9343ce09",
   "metadata": {},
   "outputs": [],
   "source": [
    "#program calculator"
   ]
  },
  {
   "cell_type": "code",
   "execution_count": 3,
   "id": "e43db840-f8c3-4690-bfcc-817cdaa00df6",
   "metadata": {},
   "outputs": [
    {
     "name": "stdin",
     "output_type": "stream",
     "text": [
      "Enter first number:  65\n",
      "Enter second number:  87\n",
      "Enter choice (1/2/3/4/5):  3\n"
     ]
    },
    {
     "name": "stdout",
     "output_type": "stream",
     "text": [
      "5655.0\n"
     ]
    }
   ],
   "source": [
    "def cal():\n",
    "    x = float(input(\"Enter first number: \"))\n",
    "    y = float(input(\"Enter second number: \"))\n",
    "    choice = float(input(\"Enter choice (1/2/3/4/5): \"))\n",
    "    if choice == 1:\n",
    "        print( x + y)\n",
    "    elif choice == 2:\n",
    "        print( x-y)\n",
    "    elif choice == 3:\n",
    "        print( x * y)\n",
    "    elif choice == 4: \n",
    "        print( x / y if y != 0 else \"Error! Division by zero is not allowed.\")\n",
    "    elif choice == 5:\n",
    "        print( x**y)\n",
    "    else: \n",
    "        print(\"Invalid input\")\n",
    "\n",
    "cal()"
   ]
  },
  {
   "cell_type": "code",
   "execution_count": null,
   "id": "98784293-4a5a-4fd3-bb56-f675042c60cb",
   "metadata": {},
   "outputs": [],
   "source": [
    "#scintific calculator"
   ]
  },
  {
   "cell_type": "code",
   "execution_count": 5,
   "id": "923d6aa7-a871-4420-baaf-d39eb341cfe5",
   "metadata": {},
   "outputs": [
    {
     "name": "stdin",
     "output_type": "stream",
     "text": [
      "Enter the first number:  54\n",
      "Enter the second number:  67\n",
      "Enter the third number:  5\n"
     ]
    },
    {
     "name": "stdout",
     "output_type": "stream",
     "text": [
      "Addition: 126.0\n",
      "Subtraction: -18.0\n",
      "Multiplication: 18090.0\n",
      "Division: 0.16119402985074627\n",
      "Modulus: 54.0\n"
     ]
    }
   ],
   "source": [
    "def add(x, y, z):\n",
    "    return x + y + z\n",
    "\n",
    "def subtract(x, y, z):\n",
    "    return x - y - z\n",
    "\n",
    "def multiply(x, y, z):\n",
    "    return x * y * z\n",
    "\n",
    "def divide(x, y, z):\n",
    "    if y != 0 and z != 0:\n",
    "        return x / y / z\n",
    "    else:\n",
    "        return \"Error: Division by zero\"\n",
    "\n",
    "def modulus(x, y, z):\n",
    "    return x % y\n",
    "a = float(input(\"Enter the first number: \"))\n",
    "b = float(input(\"Enter the second number: \"))\n",
    "c = float(input(\"Enter the third number: \"))\n",
    "print(\"Addition:\", add(a, b, c))\n",
    "print(\"Subtraction:\", subtract(a, b, c))\n",
    "print(\"Multiplication:\", multiply(a, b, c))\n",
    "print(\"Division:\", divide(a, b, c))\n",
    "print(\"Modulus:\", modulus(a, b,c))"
   ]
  }
 ],
 "metadata": {
  "kernelspec": {
   "display_name": "Python 3 (ipykernel)",
   "language": "python",
   "name": "python3"
  },
  "language_info": {
   "codemirror_mode": {
    "name": "ipython",
    "version": 3
   },
   "file_extension": ".py",
   "mimetype": "text/x-python",
   "name": "python",
   "nbconvert_exporter": "python",
   "pygments_lexer": "ipython3",
   "version": "3.11.7"
  }
 },
 "nbformat": 4,
 "nbformat_minor": 5
}
