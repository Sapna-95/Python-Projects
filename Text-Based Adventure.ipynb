{
 "cells": [
  {
   "cell_type": "code",
   "execution_count": null,
   "id": "bd852657-ae76-4704-8a9b-9a50e1b37dd2",
   "metadata": {},
   "outputs": [],
   "source": [
    "# text-Based Adventure"
   ]
  },
  {
   "cell_type": "code",
   "execution_count": 1,
   "id": "404fee20-f3e6-4ebd-be0b-c892796c3595",
   "metadata": {},
   "outputs": [
    {
     "name": "stdout",
     "output_type": "stream",
     "text": [
      "Welcome to the adventure game!\n",
      "You are at the cave entrance. What do you want to do?\n",
      "1. Enter the cave\n",
      "2. Run away\n"
     ]
    },
    {
     "name": "stdin",
     "output_type": "stream",
     "text": [
      ">  1\n"
     ]
    },
    {
     "name": "stdout",
     "output_type": "stream",
     "text": [
      "You are inside the cave. What do you want to do?\n",
      "1. Light a fire\n",
      "2. Explore the cave\n"
     ]
    },
    {
     "name": "stdin",
     "output_type": "stream",
     "text": [
      ">  2\n"
     ]
    },
    {
     "name": "stdout",
     "output_type": "stream",
     "text": [
      "You explored the cave and found a treasure! Congratulations, you won!\n"
     ]
    }
   ],
   "source": [
    "def game():\n",
    "    print(\"Welcome to the adventure game!\")\n",
    "    while True:\n",
    "        print(\"You are at the cave entrance. What do you want to do?\")\n",
    "        print(\"1. Enter the cave\")\n",
    "        print(\"2. Run away\")\n",
    "        choice = input(\"> \")\n",
    "        if choice == \"1\":\n",
    "            print(\"You are inside the cave. What do you want to do?\")\n",
    "            print(\"1. Light a fire\")\n",
    "            print(\"2. Explore the cave\")\n",
    "            choice = input(\"> \")\n",
    "            if choice == \"1\":\n",
    "                print(\"You lit a fire. Now you can see. What do you want to do?\")\n",
    "                print(\"1. Follow the path\")\n",
    "                print(\"2. Go back to the entrance\")\n",
    "                choice = input(\"> \")\n",
    "                if choice == \"1\":\n",
    "                    print(\"You followed the path and found a dragon! Game over.\")\n",
    "                elif choice == \"2\":\n",
    "                    continue\n",
    "            elif choice == \"2\":\n",
    "                print(\"You explored the cave and found a treasure! Congratulations, you won!\")\n",
    "                break\n",
    "        elif choice == \"2\":\n",
    "            print(\"You ran away. Game over.\")\n",
    "            break\n",
    "        else:\n",
    "            print(\"Invalid choice. Try again.\")\n",
    "\n",
    "game()"
   ]
  },
  {
   "cell_type": "code",
   "execution_count": null,
   "id": "129a164b-55c8-4e2e-af20-a4631218df78",
   "metadata": {},
   "outputs": [],
   "source": []
  }
 ],
 "metadata": {
  "kernelspec": {
   "display_name": "Python 3 (ipykernel)",
   "language": "python",
   "name": "python3"
  },
  "language_info": {
   "codemirror_mode": {
    "name": "ipython",
    "version": 3
   },
   "file_extension": ".py",
   "mimetype": "text/x-python",
   "name": "python",
   "nbconvert_exporter": "python",
   "pygments_lexer": "ipython3",
   "version": "3.11.7"
  }
 },
 "nbformat": 4,
 "nbformat_minor": 5
}
