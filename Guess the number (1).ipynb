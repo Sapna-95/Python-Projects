{
 "cells": [
  {
   "cell_type": "raw",
   "id": "5e124c20-5b92-4a47-ab9e-e967db219d72",
   "metadata": {},
   "source": [
    "# 1- Guess the number."
   ]
  },
  {
   "cell_type": "code",
   "execution_count": 3,
   "id": "4328c085-0590-4ac3-b135-2b2bfd37079b",
   "metadata": {},
   "outputs": [
    {
     "name": "stdin",
     "output_type": "stream",
     "text": [
      "Guess the number b/w 1,20: 6\n"
     ]
    },
    {
     "name": "stdout",
     "output_type": "stream",
     "text": [
      "You are guessing low..try with a higher number\n"
     ]
    }
   ],
   "source": [
    "import random\n",
    " \n",
    "guess=random.randint(1,20)\n",
    "\n",
    "num =int(input('Guess the number b/w 1,20:'))\n",
    "if num>guess and num<=20:\n",
    "    print('You are guessing high..try with a lower number')\n",
    "elif num<guess and num>0:\n",
    "    print('You are guessing low..try with a higher number')\n",
    "elif guess==num:\n",
    "        print('BINGO !!!')\n",
    "        \n",
    "else:\n",
    "        print('Invalid guess')"
   ]
  },
  {
   "cell_type": "code",
   "execution_count": null,
   "id": "fc430a2b-4a18-4c06-84fe-08a9fbe08d83",
   "metadata": {},
   "outputs": [],
   "source": [
    "# 2-Guess the number using range function."
   ]
  },
  {
   "cell_type": "code",
   "execution_count": 7,
   "id": "2d1e8c1e-afde-429b-b73a-6f86ca25ce49",
   "metadata": {},
   "outputs": [
    {
     "name": "stdin",
     "output_type": "stream",
     "text": [
      "Guess the number b/w 1,20: 7\n",
      "Guess the number b/w 1,20: 4\n",
      "Guess the number b/w 1,20: 6\n",
      "Guess the number b/w 1,20: 7\n",
      "Guess the number b/w 1,20: 9\n",
      "Guess the number b/w 1,20: 15\n"
     ]
    },
    {
     "name": "stdout",
     "output_type": "stream",
     "text": [
      "You are guessing high..try with a lower number\n"
     ]
    }
   ],
   "source": [
    "import random\n",
    "guess=random.randint(1,20)\n",
    "for x in range(6):\n",
    "    num =int(input('Guess the number b/w 1,20:'))\n",
    "if num>guess and num<=20:\n",
    "    print('You are guessing high..try with a lower number')\n",
    "elif num<guess and num>0:\n",
    "    print('You are guessing low..try with a lower number')\n",
    "elif guess==num:\n",
    "        print('BINGO !!!')\n",
    "        \n",
    "else:\n",
    "        print('Invalid guess')\n"
   ]
  },
  {
   "cell_type": "code",
   "execution_count": null,
   "id": "ad8750ad-3f1c-459a-92f4-083dc4e7e916",
   "metadata": {},
   "outputs": [
    {
     "name": "stdin",
     "output_type": "stream",
     "text": [
      "Guess the number b/w 1,20: 6\n"
     ]
    },
    {
     "name": "stdout",
     "output_type": "stream",
     "text": [
      "You are guessing low..try with a lower number\n"
     ]
    },
    {
     "name": "stdin",
     "output_type": "stream",
     "text": [
      "Guess the number b/w 1,20: 8\n"
     ]
    },
    {
     "name": "stdout",
     "output_type": "stream",
     "text": [
      "You are guessing low..try with a lower number\n"
     ]
    },
    {
     "name": "stdin",
     "output_type": "stream",
     "text": [
      "Guess the number b/w 1,20: 9\n"
     ]
    },
    {
     "name": "stdout",
     "output_type": "stream",
     "text": [
      "You are guessing low..try with a lower number\n"
     ]
    }
   ],
   "source": [
    "#3-using break\n",
    "import random\n",
    " \n",
    "guess=random.randint(1,20)\n",
    "for x in range(6):\n",
    "    num =int(input('Guess the number b/w 1,20:'))\n",
    "    if num>guess and num<=20:\n",
    "        print('You are guessing high..try with a lower number')\n",
    "    elif num<guess and num>0:\n",
    "        print('You are guessing low..try with a lower number')\n",
    "    elif guess==num:\n",
    "        print('BINGO !!!')\n",
    "        break\n",
    "    else:\n",
    "        print('Invalid guess')"
   ]
  },
  {
   "cell_type": "code",
   "execution_count": null,
   "id": "de558d83-1d35-48c1-a222-6f6dac075007",
   "metadata": {},
   "outputs": [],
   "source": [
    "# guess the number using loop"
   ]
  },
  {
   "cell_type": "code",
   "execution_count": null,
   "id": "597b09f4-5f14-4b94-9ada-1775a4a2ffff",
   "metadata": {},
   "outputs": [],
   "source": [
    "import random\n",
    "\n",
    "guess=random.randint(1,20)\n",
    "x=0\n",
    "while x<6:\n",
    "    num=int(input('Guess the number b/w 1-20:'))\n",
    "    if num== guess:\n",
    "        print('BINGO!!')\n",
    "        score=60-10*x\n",
    "        print('Score:',score)\n",
    "        break\n",
    "    elif num>guess and num<=20:\n",
    "        print('Guessing high...Try with lower number..')\n",
    "        x=x+1\n",
    "    elif num<guess and num>0:\n",
    "        print('Guessing low...try with high number..')\n",
    "        x=x+1\n",
    "    else:\n",
    "        print('Invalid number')\n",
    "    choice=input('press y to continue:')\n",
    "    if choice!='y':\n",
    "        break\n"
   ]
  }
 ],
 "metadata": {
  "kernelspec": {
   "display_name": "Python 3 (ipykernel)",
   "language": "python",
   "name": "python3"
  },
  "language_info": {
   "codemirror_mode": {
    "name": "ipython",
    "version": 3
   },
   "file_extension": ".py",
   "mimetype": "text/x-python",
   "name": "python",
   "nbconvert_exporter": "python",
   "pygments_lexer": "ipython3",
   "version": "3.11.7"
  }
 },
 "nbformat": 4,
 "nbformat_minor": 5
}
